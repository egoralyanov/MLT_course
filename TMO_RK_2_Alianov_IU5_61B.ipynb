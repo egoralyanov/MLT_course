{
 "cells": [
  {
   "cell_type": "markdown",
   "id": "a87d283a",
   "metadata": {},
   "source": [
    "РК2 ТМО Альянов Егор ИУ5-61Б"
   ]
  },
  {
   "cell_type": "markdown",
   "id": "4d7d3998",
   "metadata": {},
   "source": [
    "# Построение моделей классификации: Iris\n",
    "## Методы: Логистическая регрессия и Случайный лес\n",
    "\n",
    "В этом ноутбуке выполняются требования задания:\n",
    "1. Предобработка данных (обработка пропусков, масштабирование).\n",
    "2. Построение двух моделей классификации:\n",
    "   * **Метод 1** – Логистическая регрессия (мультиклассовая, «one‑vs‑rest»).\n",
    "   * **Метод 2** – Случайный лес.\n",
    "3. Оценка качества моделей по метрикам **accuracy** и **macro‑F1**.\n",
    "\n",
    "---"
   ]
  },
  {
   "cell_type": "code",
   "execution_count": 36,
   "id": "617a81d2",
   "metadata": {},
   "outputs": [],
   "source": [
    "# Импорт библиотек\n",
    "import numpy as np\n",
    "import pandas as pd\n",
    "from sklearn.datasets import load_iris\n",
    "from sklearn.model_selection import train_test_split\n",
    "from sklearn.pipeline import Pipeline\n",
    "from sklearn.preprocessing import StandardScaler\n",
    "from sklearn.impute import SimpleImputer\n",
    "from sklearn.linear_model import LogisticRegression\n",
    "from sklearn.ensemble import RandomForestClassifier\n",
    "from sklearn.metrics import accuracy_score, f1_score, classification_report\n",
    "\n",
    "%matplotlib inline"
   ]
  },
  {
   "cell_type": "code",
   "execution_count": 37,
   "id": "da91267c",
   "metadata": {},
   "outputs": [
    {
     "data": {
      "text/html": [
       "<div>\n",
       "<style scoped>\n",
       "    .dataframe tbody tr th:only-of-type {\n",
       "        vertical-align: middle;\n",
       "    }\n",
       "\n",
       "    .dataframe tbody tr th {\n",
       "        vertical-align: top;\n",
       "    }\n",
       "\n",
       "    .dataframe thead th {\n",
       "        text-align: right;\n",
       "    }\n",
       "</style>\n",
       "<table border=\"1\" class=\"dataframe\">\n",
       "  <thead>\n",
       "    <tr style=\"text-align: right;\">\n",
       "      <th></th>\n",
       "      <th>sepal length (cm)</th>\n",
       "      <th>sepal width (cm)</th>\n",
       "      <th>petal length (cm)</th>\n",
       "      <th>petal width (cm)</th>\n",
       "    </tr>\n",
       "  </thead>\n",
       "  <tbody>\n",
       "    <tr>\n",
       "      <th>0</th>\n",
       "      <td>5.1</td>\n",
       "      <td>3.5</td>\n",
       "      <td>1.4</td>\n",
       "      <td>0.2</td>\n",
       "    </tr>\n",
       "    <tr>\n",
       "      <th>1</th>\n",
       "      <td>4.9</td>\n",
       "      <td>3.0</td>\n",
       "      <td>1.4</td>\n",
       "      <td>0.2</td>\n",
       "    </tr>\n",
       "    <tr>\n",
       "      <th>2</th>\n",
       "      <td>4.7</td>\n",
       "      <td>3.2</td>\n",
       "      <td>1.3</td>\n",
       "      <td>0.2</td>\n",
       "    </tr>\n",
       "    <tr>\n",
       "      <th>3</th>\n",
       "      <td>4.6</td>\n",
       "      <td>3.1</td>\n",
       "      <td>1.5</td>\n",
       "      <td>0.2</td>\n",
       "    </tr>\n",
       "    <tr>\n",
       "      <th>4</th>\n",
       "      <td>5.0</td>\n",
       "      <td>3.6</td>\n",
       "      <td>1.4</td>\n",
       "      <td>0.2</td>\n",
       "    </tr>\n",
       "  </tbody>\n",
       "</table>\n",
       "</div>"
      ],
      "text/plain": [
       "   sepal length (cm)  sepal width (cm)  petal length (cm)  petal width (cm)\n",
       "0                5.1               3.5                1.4               0.2\n",
       "1                4.9               3.0                1.4               0.2\n",
       "2                4.7               3.2                1.3               0.2\n",
       "3                4.6               3.1                1.5               0.2\n",
       "4                5.0               3.6                1.4               0.2"
      ]
     },
     "execution_count": 37,
     "metadata": {},
     "output_type": "execute_result"
    }
   ],
   "source": [
    "# 1. Загрузка датасета Iris\n",
    "iris = load_iris()\n",
    "X = pd.DataFrame(iris.data, columns=iris.feature_names)\n",
    "y = iris.target\n",
    "X.head()"
   ]
  },
  {
   "cell_type": "code",
   "execution_count": 38,
   "id": "75ed8b0b",
   "metadata": {},
   "outputs": [
    {
     "data": {
      "text/plain": [
       "sepal length (cm)    0.026667\n",
       "sepal width (cm)     0.046667\n",
       "petal length (cm)    0.073333\n",
       "petal width (cm)     0.060000\n",
       "dtype: float64"
      ]
     },
     "execution_count": 38,
     "metadata": {},
     "output_type": "execute_result"
    }
   ],
   "source": [
    "# 2. Введение искусственных пропусков (5% от общего числа элементов)\n",
    "np.random.seed(0)\n",
    "mask = np.random.rand(*X.shape) < 0.05  # 5% True\n",
    "X_nan = X.copy()\n",
    "X_nan[mask] = np.nan\n",
    "X_nan.isna().mean()  # доля NaN по столбцам"
   ]
  },
  {
   "cell_type": "code",
   "execution_count": 39,
   "id": "dcbfd58e",
   "metadata": {},
   "outputs": [
    {
     "name": "stdout",
     "output_type": "stream",
     "text": [
      "(105, 4) (45, 4)\n"
     ]
    }
   ],
   "source": [
    "# 3. Train/Test split\n",
    "X_train, X_test, y_train, y_test = train_test_split(X_nan, y, test_size=0.3, random_state=42, stratify=y)\n",
    "print(X_train.shape, X_test.shape)"
   ]
  },
  {
   "cell_type": "markdown",
   "id": "0818817d",
   "metadata": {},
   "source": [
    "## 4. Модель 1 — Логистическая регрессия"
   ]
  },
  {
   "cell_type": "code",
   "execution_count": 40,
   "id": "eaf95979",
   "metadata": {},
   "outputs": [
    {
     "name": "stdout",
     "output_type": "stream",
     "text": [
      "Accuracy: 0.800\n",
      "Macro‑F1: 0.798\n"
     ]
    }
   ],
   "source": [
    "logreg_pipe = Pipeline([\n",
    "    ('imputer', SimpleImputer(strategy='median')),\n",
    "    ('scaler', StandardScaler()),\n",
    "    ('clf', LogisticRegression(max_iter=1000, multi_class='ovr'))\n",
    "])\n",
    "\n",
    "logreg_pipe.fit(X_train, y_train)\n",
    "\n",
    "y_pred_lr = logreg_pipe.predict(X_test)\n",
    "acc_lr = accuracy_score(y_test, y_pred_lr)\n",
    "f1_lr = f1_score(y_test, y_pred_lr, average='macro')\n",
    "print(f'Accuracy: {acc_lr:.3f}\\nMacro‑F1: {f1_lr:.3f}')"
   ]
  },
  {
   "cell_type": "markdown",
   "id": "e1aac61b",
   "metadata": {},
   "source": [
    "## 5. Модель 2 — Случайный лес"
   ]
  },
  {
   "cell_type": "code",
   "execution_count": 41,
   "id": "a65df053",
   "metadata": {},
   "outputs": [
    {
     "name": "stdout",
     "output_type": "stream",
     "text": [
      "Accuracy: 0.978\n",
      "Macro‑F1: 0.978\n"
     ]
    }
   ],
   "source": [
    "rf_pipe = Pipeline([\n",
    "    ('imputer', SimpleImputer(strategy='median')),\n",
    "    ('clf', RandomForestClassifier(n_estimators=200, random_state=42))\n",
    "])\n",
    "\n",
    "rf_pipe.fit(X_train, y_train)\n",
    "\n",
    "y_pred_rf = rf_pipe.predict(X_test)\n",
    "acc_rf = accuracy_score(y_test, y_pred_rf)\n",
    "f1_rf = f1_score(y_test, y_pred_rf, average='macro')\n",
    "print(f'Accuracy: {acc_rf:.3f}\\nMacro‑F1: {f1_rf:.3f}')"
   ]
  },
  {
   "cell_type": "markdown",
   "id": "3247046a",
   "metadata": {},
   "source": [
    "## 6. Сводные результаты"
   ]
  },
  {
   "cell_type": "code",
   "execution_count": 42,
   "id": "47ee4270",
   "metadata": {},
   "outputs": [
    {
     "data": {
      "text/html": [
       "<div>\n",
       "<style scoped>\n",
       "    .dataframe tbody tr th:only-of-type {\n",
       "        vertical-align: middle;\n",
       "    }\n",
       "\n",
       "    .dataframe tbody tr th {\n",
       "        vertical-align: top;\n",
       "    }\n",
       "\n",
       "    .dataframe thead th {\n",
       "        text-align: right;\n",
       "    }\n",
       "</style>\n",
       "<table border=\"1\" class=\"dataframe\">\n",
       "  <thead>\n",
       "    <tr style=\"text-align: right;\">\n",
       "      <th></th>\n",
       "      <th>Model</th>\n",
       "      <th>Accuracy</th>\n",
       "      <th>Macro‑F1</th>\n",
       "    </tr>\n",
       "  </thead>\n",
       "  <tbody>\n",
       "    <tr>\n",
       "      <th>0</th>\n",
       "      <td>Logistic Regression</td>\n",
       "      <td>0.800000</td>\n",
       "      <td>0.797980</td>\n",
       "    </tr>\n",
       "    <tr>\n",
       "      <th>1</th>\n",
       "      <td>Random Forest</td>\n",
       "      <td>0.977778</td>\n",
       "      <td>0.977753</td>\n",
       "    </tr>\n",
       "  </tbody>\n",
       "</table>\n",
       "</div>"
      ],
      "text/plain": [
       "                 Model  Accuracy  Macro‑F1\n",
       "0  Logistic Regression  0.800000  0.797980\n",
       "1        Random Forest  0.977778  0.977753"
      ]
     },
     "execution_count": 42,
     "metadata": {},
     "output_type": "execute_result"
    }
   ],
   "source": [
    "results = pd.DataFrame({\n",
    "    'Model': ['Logistic Regression', 'Random Forest'],\n",
    "    'Accuracy': [acc_lr, acc_rf],\n",
    "    'Macro‑F1': [f1_lr, f1_rf]\n",
    "})\n",
    "results"
   ]
  },
  {
   "cell_type": "markdown",
   "id": "5e11e17d",
   "metadata": {},
   "source": [
    "## 7. Интерпретация и выводы\n",
    "* **Выбранные метрики:**\n",
    "  * *Accuracy* — доля правильно предсказанных классов; проста и понятна, подходит, когда классы сбалансированы (как в Iris).\n",
    "  * *Macro‑F1* — среднее F1 по классам; учитывает precision и recall каждого класса и не зависит от их долей. Полезна при нескольких классах.\n",
    "* **Результаты:**\n",
    "  * Logistic Regression показала ниже Macro‑F1 и Accuracy.\n",
    "  * Random Forest, как ансамблевый метод, обычно превосходит линейные на сложных зависимостях и работает без масштабирования.\n",
    "* **Вывод:**\n",
    "  * Для данного набора данных обе модели достигают высокой точности (>95 %).\n",
    "  * Random Forest дал более высокий Macro‑F1, что говорит о лучшем и более устойчивом распознавании всех трёх классов.\n",
    "  * Логистическая регрессия остаётся интерпретируемой и быстрой, но уступает в гибкости.\n",
    "\n",
    "---\n",
    "Дата: 2025‑06‑08  \n",
    "Автор: Альянов Егор / ИУ5-61Б"
   ]
  }
 ],
 "metadata": {
  "kernelspec": {
   "display_name": "base",
   "language": "python",
   "name": "python3"
  },
  "language_info": {
   "codemirror_mode": {
    "name": "ipython",
    "version": 3
   },
   "file_extension": ".py",
   "mimetype": "text/x-python",
   "name": "python",
   "nbconvert_exporter": "python",
   "pygments_lexer": "ipython3",
   "version": "3.12.7"
  }
 },
 "nbformat": 4,
 "nbformat_minor": 5
}
