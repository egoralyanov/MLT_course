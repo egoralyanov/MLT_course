{
 "cells": [
  {
   "cell_type": "markdown",
   "id": "b7ba6cf1",
   "metadata": {},
   "source": [
    "РК1 ТМО Альянов Егор Сергеевич ИУ5-61Б"
   ]
  },
  {
   "cell_type": "markdown",
   "id": "2f72ebed",
   "metadata": {},
   "source": [
    "# Корреляционный анализ Iris\n",
    "Этот ноутбук демонстрирует выполнение задания: очистка данных, корреляционный анализ и построение диаграммы рассеяния.\n",
    "\n",
    "**Шаги:**\n",
    "1. Загрузка датасета Iris из `sklearn.datasets`.\n",
    "2. Введение искусственных пропусков.\n",
    "3. Очистка данных (удаление строк с NaN).\n",
    "4. Расчёт корреляционной матрицы.\n",
    "5. Визуализация (диаграмма рассеяния)."
   ]
  },
  {
   "cell_type": "code",
   "execution_count": 26,
   "id": "c1fb7518",
   "metadata": {},
   "outputs": [],
   "source": [
    "# Загрузка библиотек\n",
    "import pandas as pd\n",
    "import numpy as np\n",
    "import matplotlib.pyplot as plt\n",
    "from sklearn.datasets import load_iris\n",
    "%matplotlib inline"
   ]
  },
  {
   "cell_type": "code",
   "execution_count": 27,
   "id": "79968592",
   "metadata": {},
   "outputs": [
    {
     "data": {
      "text/html": [
       "<div>\n",
       "<style scoped>\n",
       "    .dataframe tbody tr th:only-of-type {\n",
       "        vertical-align: middle;\n",
       "    }\n",
       "\n",
       "    .dataframe tbody tr th {\n",
       "        vertical-align: top;\n",
       "    }\n",
       "\n",
       "    .dataframe thead th {\n",
       "        text-align: right;\n",
       "    }\n",
       "</style>\n",
       "<table border=\"1\" class=\"dataframe\">\n",
       "  <thead>\n",
       "    <tr style=\"text-align: right;\">\n",
       "      <th></th>\n",
       "      <th>sepal length (cm)</th>\n",
       "      <th>sepal width (cm)</th>\n",
       "      <th>petal length (cm)</th>\n",
       "      <th>petal width (cm)</th>\n",
       "      <th>species</th>\n",
       "    </tr>\n",
       "  </thead>\n",
       "  <tbody>\n",
       "    <tr>\n",
       "      <th>0</th>\n",
       "      <td>5.1</td>\n",
       "      <td>3.5</td>\n",
       "      <td>1.4</td>\n",
       "      <td>0.2</td>\n",
       "      <td>0</td>\n",
       "    </tr>\n",
       "    <tr>\n",
       "      <th>1</th>\n",
       "      <td>4.9</td>\n",
       "      <td>3.0</td>\n",
       "      <td>1.4</td>\n",
       "      <td>0.2</td>\n",
       "      <td>0</td>\n",
       "    </tr>\n",
       "    <tr>\n",
       "      <th>2</th>\n",
       "      <td>4.7</td>\n",
       "      <td>3.2</td>\n",
       "      <td>1.3</td>\n",
       "      <td>0.2</td>\n",
       "      <td>0</td>\n",
       "    </tr>\n",
       "    <tr>\n",
       "      <th>3</th>\n",
       "      <td>4.6</td>\n",
       "      <td>3.1</td>\n",
       "      <td>1.5</td>\n",
       "      <td>0.2</td>\n",
       "      <td>0</td>\n",
       "    </tr>\n",
       "    <tr>\n",
       "      <th>4</th>\n",
       "      <td>5.0</td>\n",
       "      <td>3.6</td>\n",
       "      <td>1.4</td>\n",
       "      <td>0.2</td>\n",
       "      <td>0</td>\n",
       "    </tr>\n",
       "  </tbody>\n",
       "</table>\n",
       "</div>"
      ],
      "text/plain": [
       "   sepal length (cm)  sepal width (cm)  petal length (cm)  petal width (cm)  \\\n",
       "0                5.1               3.5                1.4               0.2   \n",
       "1                4.9               3.0                1.4               0.2   \n",
       "2                4.7               3.2                1.3               0.2   \n",
       "3                4.6               3.1                1.5               0.2   \n",
       "4                5.0               3.6                1.4               0.2   \n",
       "\n",
       "   species  \n",
       "0        0  \n",
       "1        0  \n",
       "2        0  \n",
       "3        0  \n",
       "4        0  "
      ]
     },
     "execution_count": 27,
     "metadata": {},
     "output_type": "execute_result"
    }
   ],
   "source": [
    "# 1. Загрузка Iris и формирование DataFrame\n",
    "iris = load_iris()\n",
    "df = pd.DataFrame(iris.data, columns=iris.feature_names)\n",
    "df['species'] = iris.target\n",
    "df.head()"
   ]
  },
  {
   "cell_type": "code",
   "execution_count": 28,
   "id": "ce27b7b1",
   "metadata": {},
   "outputs": [
    {
     "data": {
      "text/plain": [
       "sepal length (cm)    0\n",
       "sepal width (cm)     0\n",
       "petal length (cm)    0\n",
       "petal width (cm)     5\n",
       "species              0\n",
       "dtype: int64"
      ]
     },
     "execution_count": 28,
     "metadata": {},
     "output_type": "execute_result"
    }
   ],
   "source": [
    "# 2. Введение искусственных пропусков (пример: 5 NaN в 'petal width (cm)')\n",
    "np.random.seed(42)\n",
    "missing_idx = np.random.choice(df.index, size=5, replace=False)\n",
    "df.loc[missing_idx, 'petal width (cm)'] = np.nan\n",
    "df.isna().sum()"
   ]
  },
  {
   "cell_type": "code",
   "execution_count": 29,
   "id": "d9ba368a",
   "metadata": {},
   "outputs": [
    {
     "name": "stdout",
     "output_type": "stream",
     "text": [
      "После очистки осталось 145 строк из 150\n"
     ]
    }
   ],
   "source": [
    "# 3. Очистка данных – удаляем строки с пропусками\n",
    "df_clean = df.dropna()\n",
    "print(f'После очистки осталось {len(df_clean)} строк из {len(df)}')"
   ]
  },
  {
   "cell_type": "code",
   "execution_count": 30,
   "id": "507b0dc0",
   "metadata": {},
   "outputs": [
    {
     "data": {
      "text/html": [
       "<div>\n",
       "<style scoped>\n",
       "    .dataframe tbody tr th:only-of-type {\n",
       "        vertical-align: middle;\n",
       "    }\n",
       "\n",
       "    .dataframe tbody tr th {\n",
       "        vertical-align: top;\n",
       "    }\n",
       "\n",
       "    .dataframe thead th {\n",
       "        text-align: right;\n",
       "    }\n",
       "</style>\n",
       "<table border=\"1\" class=\"dataframe\">\n",
       "  <thead>\n",
       "    <tr style=\"text-align: right;\">\n",
       "      <th></th>\n",
       "      <th>sepal length (cm)</th>\n",
       "      <th>sepal width (cm)</th>\n",
       "      <th>petal length (cm)</th>\n",
       "      <th>petal width (cm)</th>\n",
       "    </tr>\n",
       "  </thead>\n",
       "  <tbody>\n",
       "    <tr>\n",
       "      <th>sepal length (cm)</th>\n",
       "      <td>1.000000</td>\n",
       "      <td>-0.097119</td>\n",
       "      <td>0.872116</td>\n",
       "      <td>0.820618</td>\n",
       "    </tr>\n",
       "    <tr>\n",
       "      <th>sepal width (cm)</th>\n",
       "      <td>-0.097119</td>\n",
       "      <td>1.000000</td>\n",
       "      <td>-0.411095</td>\n",
       "      <td>-0.350477</td>\n",
       "    </tr>\n",
       "    <tr>\n",
       "      <th>petal length (cm)</th>\n",
       "      <td>0.872116</td>\n",
       "      <td>-0.411095</td>\n",
       "      <td>1.000000</td>\n",
       "      <td>0.963497</td>\n",
       "    </tr>\n",
       "    <tr>\n",
       "      <th>petal width (cm)</th>\n",
       "      <td>0.820618</td>\n",
       "      <td>-0.350477</td>\n",
       "      <td>0.963497</td>\n",
       "      <td>1.000000</td>\n",
       "    </tr>\n",
       "  </tbody>\n",
       "</table>\n",
       "</div>"
      ],
      "text/plain": [
       "                   sepal length (cm)  sepal width (cm)  petal length (cm)  \\\n",
       "sepal length (cm)           1.000000         -0.097119           0.872116   \n",
       "sepal width (cm)           -0.097119          1.000000          -0.411095   \n",
       "petal length (cm)           0.872116         -0.411095           1.000000   \n",
       "petal width (cm)            0.820618         -0.350477           0.963497   \n",
       "\n",
       "                   petal width (cm)  \n",
       "sepal length (cm)          0.820618  \n",
       "sepal width (cm)          -0.350477  \n",
       "petal length (cm)          0.963497  \n",
       "petal width (cm)           1.000000  "
      ]
     },
     "execution_count": 30,
     "metadata": {},
     "output_type": "execute_result"
    }
   ],
   "source": [
    "# 4. Корреляционный анализ (Pearson)\n",
    "corr_matrix = df_clean.drop(columns=['species']).corr(method='pearson')\n",
    "corr_matrix"
   ]
  },
  {
   "cell_type": "code",
   "execution_count": 31,
   "id": "e24f4973",
   "metadata": {},
   "outputs": [
    {
     "data": {
      "image/png": "[encoded data removed]",
      "text/plain": [
       "<Figure size 600x400 with 1 Axes>"
      ]
     },
     "metadata": {},
     "output_type": "display_data"
    }
   ],
   "source": [
    "# 5. Диаграмма рассеяния для двух признаков\n",
    "plt.figure(figsize=(6,4))\n",
    "plt.scatter(df_clean['sepal length (cm)'], df_clean['petal length (cm)'])\n",
    "plt.xlabel('Sepal length (cm)')\n",
    "plt.ylabel('Petal length (cm)')\n",
    "plt.title('Диаграмма рассеяния: Sepal length vs Petal length')\n",
    "plt.grid(True)\n",
    "plt.show()"
   ]
  },
  {
   "cell_type": "markdown",
   "id": "d2d5f237",
   "metadata": {},
   "source": [
    "Итог\n",
    "Данные содержат информативные, но частично избыточные признаки.\n",
    "\n",
    "Очистка от случайных пропусков не ухудшила структуру.\n",
    "\n",
    "Модели машинного обучения легко обучатся и достигнут высокой точности (> 95 %) при классическом разделении 70/30, особенно если учесть сильную корреляцию лепестков и добавить регулизацию или метод отбора признаков."
   ]
  },
  {
   "cell_type": "markdown",
   "id": "fb7cc2ea",
   "metadata": {},
   "source": [
    "---\n",
    "Автор: *Альянов Егор / ИУ5-61Б*  \n",
    "Дата: 2025‑06‑08"
   ]
  }
 ],
 "metadata": {
  "kernelspec": {
   "display_name": "Python 3",
   "language": "python",
   "name": "python3"
  },
  "language_info": {
   "codemirror_mode": {
    "name": "ipython",
    "version": 3
   },
   "file_extension": ".py",
   "mimetype": "text/x-python",
   "name": "python",
   "nbconvert_exporter": "python",
   "pygments_lexer": "ipython3",
   "version": "3.9.6"
  }
 },
 "nbformat": 4,
 "nbformat_minor": 5
}
